{
  "nbformat": 4,
  "nbformat_minor": 0,
  "metadata": {
    "colab": {
      "name": "mesa-optimizers cart pole.ipynb",
      "provenance": []
    },
    "kernelspec": {
      "name": "python3",
      "display_name": "Python 3"
    },
    "language_info": {
      "name": "python"
    },
    "accelerator": "GPU",
    "gpuClass": "standard"
  },
  "cells": [
    {
      "cell_type": "code",
      "execution_count": 1,
      "metadata": {
        "id": "d4i_x-nATHJr"
      },
      "outputs": [],
      "source": [
        "!pip install gym==0.21 > /dev/null\n",
        "!pip install stable-baselines3[extra] box2d > /dev/null"
      ]
    },
    {
      "cell_type": "code",
      "source": [
        "!pip install pyvirtualdisplay > /dev/null\n",
        "!apt-get install -y xvfb python-opengl ffmpeg > /dev/null"
      ],
      "metadata": {
        "id": "xNTKeGvuhoE-"
      },
      "execution_count": 2,
      "outputs": []
    },
    {
      "cell_type": "code",
      "source": [
        "import random \n",
        "import gym\n",
        "import shutil\n",
        "from stable_baselines3 import DQN\n",
        "from collections import OrderedDict"
      ],
      "metadata": {
        "id": "Cuv07rbdeHAa"
      },
      "execution_count": 3,
      "outputs": []
    },
    {
      "cell_type": "code",
      "source": [
        "from IPython.display import HTML\n",
        "import matplotlib\n",
        "import matplotlib.pyplot as plt\n",
        "from tqdm import tqdm\n",
        "%matplotlib inline\n",
        "import glob\n",
        "import io\n",
        "import base64\n",
        "from gym.wrappers import Monitor\n",
        "from IPython import display as ipythondisplay\n",
        "from pyvirtualdisplay import Display\n",
        "display = Display(visible=0, size=(1400, 900))\n",
        "display.start()"
      ],
      "metadata": {
        "colab": {
          "base_uri": "https://localhost:8080/"
        },
        "id": "YmNrc6Bchmz7",
        "outputId": "bd105e18-479b-44f7-de4f-a6bcaf9738b7"
      },
      "execution_count": 4,
      "outputs": [
        {
          "output_type": "execute_result",
          "data": {
            "text/plain": [
              "<pyvirtualdisplay.display.Display at 0x7fc9cb95add0>"
            ]
          },
          "metadata": {},
          "execution_count": 4
        }
      ]
    },
    {
      "cell_type": "code",
      "source": [
        "env = gym.make(\"CartPole-v1\")"
      ],
      "metadata": {
        "id": "NLCoDnhveJQ7"
      },
      "execution_count": 5,
      "outputs": []
    },
    {
      "cell_type": "code",
      "source": [
        "model = DQN(policy='MlpPolicy', env=env, batch_size=64, buffer_size=100000, \n",
        "            exploration_final_eps=0.04, exploration_fraction=0.16, gamma=0.99, \n",
        "            gradient_steps=128, learning_rate=0.0023, learning_starts=1000, \n",
        "            policy_kwargs=dict(net_arch=[256, 256]), target_update_interval=10, \n",
        "            train_freq=256)\n",
        "model.learn(total_timesteps=50000)\n",
        "model.save(\"cart_pole_dqn\")\n",
        "# model.load(\"cart_pole_dqn\")"
      ],
      "metadata": {
        "id": "uea8yhPKeM-2"
      },
      "execution_count": 6,
      "outputs": []
    },
    {
      "cell_type": "code",
      "source": [
        "def show_video(folder):\n",
        "  mp4list = glob.glob(f'{folder}/*.mp4')\n",
        "  if len(mp4list) > 0:\n",
        "    mp4 = mp4list[0]\n",
        "    video = io.open(mp4, 'r+b').read()\n",
        "    encoded = base64.b64encode(video)\n",
        "    ipythondisplay.display(HTML(data='''<video alt=\"test\" autoplay \n",
        "                loop controls style=\"height: 400px;\">\n",
        "                <source src=\"data:video/mp4;base64,{0}\" type=\"video/mp4\" />\n",
        "             </video>'''.format(encoded.decode('ascii'))))\n",
        "  else: \n",
        "    print(\"Could not find video\")\n",
        "    \n",
        "\n",
        "def wrap_env(env, folder):\n",
        "  env = Monitor(env, folder, force=True)\n",
        "  return env"
      ],
      "metadata": {
        "id": "OxXC8Kj2i2_3"
      },
      "execution_count": 7,
      "outputs": []
    },
    {
      "cell_type": "code",
      "source": [
        "def simulate(env, model, verbose=False):\n",
        "  observation = env.reset()\n",
        "  done = False\n",
        "  i = 0\n",
        "  while not done:\n",
        "    i += 1\n",
        "    action = model.predict(observation)[0]\n",
        "    observation, reward, done, info = env.step(action)\n",
        "    if verbose and (done or i % 500):\n",
        "      display_results(observation, reward, done, info)\n",
        "  return i, reward\n",
        "      \n",
        "\n",
        "def display_results(observation, reward, done, info):\n",
        "  print(f\"Observation: {observation}\")\n",
        "  print(f\"Reward: {reward}\")\n",
        "  print(f\"Done: {done}\")\n",
        "  print(f\"Info: {info}\")\n",
        "  print(\"==================================================\")"
      ],
      "metadata": {
        "id": "RoxTpGEyeRlf"
      },
      "execution_count": 8,
      "outputs": []
    },
    {
      "cell_type": "markdown",
      "source": [
        "\n",
        "\n",
        "---\n",
        "\n"
      ],
      "metadata": {
        "id": "ygau2WPCKk7l"
      }
    },
    {
      "cell_type": "code",
      "source": [
        "# Show env.step output\n",
        "observation = env.reset()\n",
        "action = model.predict(observation)[0]\n",
        "observation, reward, done, info = env.step(action)\n",
        "display_results(observation, reward, done, info)\n",
        "env.close()"
      ],
      "metadata": {
        "colab": {
          "base_uri": "https://localhost:8080/"
        },
        "id": "i2oLNuX6KmvT",
        "outputId": "5ddd32ee-3324-498e-f6a6-d21b371d7db2"
      },
      "execution_count": 9,
      "outputs": [
        {
          "output_type": "stream",
          "name": "stdout",
          "text": [
            "Observation: [ 0.03379505  0.23307054 -0.00368966 -0.2831098 ]\n",
            "Reward: 1.0\n",
            "Done: False\n",
            "Info: {}\n",
            "==================================================\n"
          ]
        }
      ]
    },
    {
      "cell_type": "markdown",
      "source": [
        "\n",
        "\n",
        "---\n",
        "\n"
      ],
      "metadata": {
        "id": "nc-Z_ycseoYm"
      }
    },
    {
      "cell_type": "code",
      "source": [
        "video_folder = './video'\n",
        "env = wrap_env(env, video_folder)\n",
        "steps, rewards = simulate(env, model)\n",
        "env.close()\n",
        "show_video(video_folder)"
      ],
      "metadata": {
        "id": "NTAJrLhS1dub"
      },
      "execution_count": null,
      "outputs": []
    },
    {
      "cell_type": "code",
      "source": [
        "best_reward = -1e8\n",
        "for i in tqdm(range(100)):\n",
        "  env = wrap_env(env, './video')\n",
        "  steps, reward = simulate(env, model)\n",
        "  env.close()\n",
        "  if reward > best_reward:\n",
        "    best_reward = reward\n",
        "    shutil.copytree('./video', f'./video_{best_reward}') \n",
        "print(best_reward)\n"
      ],
      "metadata": {
        "colab": {
          "base_uri": "https://localhost:8080/"
        },
        "id": "TGi4zYxYen25",
        "outputId": "f219f664-f80d-4545-e032-9ec2d86024de"
      },
      "execution_count": 11,
      "outputs": [
        {
          "output_type": "stream",
          "name": "stderr",
          "text": [
            "100%|██████████| 100/100 [07:28<00:00,  4.49s/it]"
          ]
        },
        {
          "output_type": "stream",
          "name": "stdout",
          "text": [
            "1.0\n"
          ]
        },
        {
          "output_type": "stream",
          "name": "stderr",
          "text": [
            "\n"
          ]
        }
      ]
    },
    {
      "cell_type": "markdown",
      "source": [
        "\n",
        "\n",
        "---\n",
        "\n"
      ],
      "metadata": {
        "id": "faU_CxFceslR"
      }
    },
    {
      "cell_type": "code",
      "source": [
        "print(best_reward)\n",
        "show_video(f'video_{best_reward}')\n",
        "\n",
        "# number = 62\n",
        "# show_video(f'video_{number}')"
      ],
      "metadata": {
        "id": "YgDjV4sjedEd",
        "colab": {
          "base_uri": "https://localhost:8080/",
          "height": 439
        },
        "outputId": "3cd1ae25-e74f-42ac-ec58-3bf290108688"
      },
      "execution_count": 12,
      "outputs": [
        {
          "output_type": "stream",
          "name": "stdout",
          "text": [
            "1.0\n"
          ]
        },
        {
          "output_type": "display_data",
          "data": {
            "text/plain": [
              "<IPython.core.display.HTML object>"
            ],
            "text/html": [
              "<video alt=\"test\" autoplay \n",
              "                loop controls style=\"height: 400px;\">\n",
              "                <source src=\"data:video/mp4;base64,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\" type=\"video/mp4\" />\n",
              "             </video>"
            ]
          },
          "metadata": {}
        }
      ]
    }
  ]
}